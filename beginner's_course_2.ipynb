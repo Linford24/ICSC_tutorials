{
 "cells": [
  {
   "cell_type": "markdown",
   "id": "d69b57a3-0d80-4cc2-8ad2-67cea2987985",
   "metadata": {},
   "source": [
    "## The Beginner's Course 2"
   ]
  },
  {
   "cell_type": "markdown",
   "id": "142d8b00-95b7-46d3-8179-96e38638c94d",
   "metadata": {},
   "source": [
    "### Conditional Flows"
   ]
  },
  {
   "cell_type": "markdown",
   "id": "b3122c6b-c1cf-492e-9e1c-c308af8b89a1",
   "metadata": {},
   "source": [
    "#### If...else clause\n",
    "   - This clause expresses a condition.\n",
    "   - Just like an if statement, there's always an initial condition and a resulting condition.\n",
    "   - A similar principle is applied when using if and else clauses.\n",
    "      "
   ]
  },
  {
   "cell_type": "code",
   "execution_count": 5,
   "id": "9744c26e-cd6c-4913-b21a-dbcf657d4e79",
   "metadata": {},
   "outputs": [
    {
     "name": "stdout",
     "output_type": "stream",
     "text": [
      "3 is less than 7\n"
     ]
    }
   ],
   "source": [
    "\n",
    "if 3 < 7:\n",
    "    print(\"3 is less than 7\")\n",
    "else:\n",
    "    print(\"3 cannot be more than 7\")\n",
    "          "
   ]
  },
  {
   "cell_type": "markdown",
   "id": "04133ffc-9bdb-40a0-9296-fd52b215ce6f",
   "metadata": {},
   "source": [
    "#### From the above code, we learn the ff:\n",
    "   - if the 'if statement' (in this case, '3 < 7') is true, then the code indented below it is run otherwise....\n",
    "   - the 'else statement' (in this case, '3 >= 7') is true, then the code below it is run"
   ]
  },
  {
   "cell_type": "code",
   "execution_count": 8,
   "id": "12bf8351-cbee-47c2-a559-ff92bd95683f",
   "metadata": {},
   "outputs": [
    {
     "name": "stdout",
     "output_type": "stream",
     "text": [
      "3 is not greater than 7\n"
     ]
    }
   ],
   "source": [
    "#Let's try another example that runs the else statement\n",
    "\n",
    "if 3 > 7:\n",
    "    print(\"3 is greater than 7\")\n",
    "else:\n",
    "    print(\"3 is not greater than 7\")"
   ]
  },
  {
   "cell_type": "markdown",
   "id": "0eabc5ca-aca0-48b9-8746-ecb51ed3a0ae",
   "metadata": {},
   "source": [
    "#### Also the elif statement can be used for checking for more conditions"
   ]
  },
  {
   "cell_type": "code",
   "execution_count": 9,
   "id": "0dd58e33-c462-46b1-b4d7-1574f973928f",
   "metadata": {},
   "outputs": [
    {
     "name": "stdout",
     "output_type": "stream",
     "text": [
      "3 is less than 7\n"
     ]
    }
   ],
   "source": [
    "# elif statement examples\n",
    "\n",
    "if 3 > 7:\n",
    "    print(\"3 is greater than 7\")\n",
    "elif 3 < 7:\n",
    "    print(\"3 is less than 7\")\n",
    "else:\n",
    "    print(\"3 is less than or equal to 7\")"
   ]
  },
  {
   "cell_type": "markdown",
   "id": "ebb35020-a9fd-4343-8b14-212b1b2d194a",
   "metadata": {},
   "source": [
    "### For.. loops"
   ]
  },
  {
   "cell_type": "markdown",
   "id": "9046f4c4-3e79-4bc6-9cb8-a76423d70dbc",
   "metadata": {},
   "source": [
    "#### For loop is used to run through any group of items\n",
    "  - the loop picks a single unit representation of the whole group\n",
    "  - then it runs the same code in the indented block across each of the single units that make up the group"
   ]
  },
  {
   "cell_type": "code",
   "execution_count": 10,
   "id": "df96711b-a1eb-4baf-89ef-7814fc883d4f",
   "metadata": {},
   "outputs": [
    {
     "data": {
      "text/plain": [
       "{'L': 1,\n",
       " 'I': 1,\n",
       " 'N': 1,\n",
       " 'F': 1,\n",
       " 'O': 3,\n",
       " 'R': 1,\n",
       " 'D': 2,\n",
       " 'A': 2,\n",
       " 'M': 1,\n",
       " 'K': 1}"
      ]
     },
     "execution_count": 10,
     "metadata": {},
     "output_type": "execute_result"
    }
   ],
   "source": [
    "# typical examples\n",
    "name_in_capitals = ['L', 'I', 'N', 'F', 'O', 'R', 'D', 'A', 'D', 'O', 'M', 'A', 'K', 'O']\n",
    "name_character_count = {}\n",
    "\n",
    "for character in name_in_capitals:\n",
    "    if character in name_character_count:\n",
    "        name_character_count[character] += 1\n",
    "    else:\n",
    "        name_character_count[character] = 1\n",
    "\n",
    "name_character_count"
   ]
  },
  {
   "cell_type": "markdown",
   "id": "473f26e8-b38d-46be-8741-16021859d553",
   "metadata": {},
   "source": [
    "### Task 1 - Separating vowels and consonants\n",
    "   - alphabets = 'abcdefghijklmnopqrstuvwxyz'\n",
    "   - Separate all vowels in the alphabets string into a single list named \"vowels\"\n",
    "   - Separate all consonants in the alphabets string into a single list named \"consonants\"\n",
    "     "
   ]
  },
  {
   "cell_type": "code",
   "execution_count": 13,
   "id": "fc189f9a-6a28-4dd9-afab-d5ce71e04bc0",
   "metadata": {},
   "outputs": [
    {
     "data": {
      "text/plain": [
       "['b',\n",
       " 'c',\n",
       " 'd',\n",
       " 'f',\n",
       " 'g',\n",
       " 'h',\n",
       " 'j',\n",
       " 'k',\n",
       " 'l',\n",
       " 'm',\n",
       " 'n',\n",
       " 'p',\n",
       " 'q',\n",
       " 'r',\n",
       " 's',\n",
       " 't',\n",
       " 'v',\n",
       " 'w',\n",
       " 'x',\n",
       " 'y',\n",
       " 'z']"
      ]
     },
     "execution_count": 13,
     "metadata": {},
     "output_type": "execute_result"
    }
   ],
   "source": [
    "alphabets = 'abcdefghijklmnopqrstuvwxyz'\n",
    "alph_list = list(alphabets)\n",
    "vowels = ['a', 'e', 'i', 'o', 'u']\n",
    "consonants = []\n",
    "\n",
    "for alphabet in alph_list:\n",
    "    if alphabet in vowels:\n",
    "        None\n",
    "    else:\n",
    "        consonants.append(alphabet)\n",
    "\n",
    "consonants"
   ]
  },
  {
   "cell_type": "markdown",
   "id": "b69e9cee-acfa-4555-9ac8-0c2046c9d383",
   "metadata": {},
   "source": [
    "### While... Loops\n",
    "  - While loop is just like a For.. loop just that a while loop always ends when a stopping condition is reached.\n",
    "  - For example, every 100 meters race is ended when the racers cross the finishing line.\n",
    "  - The racer who crosses the finishing line first becomes the winner.\n",
    "  - However, any racer who leads after crossing the 70 meters mark cannot be crowned the winner until he/she crosses\n",
    "     the 100 meter mark while in that leading position.\n",
    "\n",
    "  - This is exactly how while loop works. If there is no stopping condition, the loop will continue endlessly resulting in a condition termed \"infinite loop\""
   ]
  },
  {
   "cell_type": "code",
   "execution_count": 14,
   "id": "1a305518-4429-42b9-92e2-544facab3858",
   "metadata": {},
   "outputs": [
    {
     "data": {
      "text/plain": [
       "[0, 1, 2, 3, 4, 5, 6, 7, 8, 9]"
      ]
     },
     "execution_count": 14,
     "metadata": {},
     "output_type": "execute_result"
    }
   ],
   "source": [
    "# while loop examples\n",
    "\n",
    "condition = 0\n",
    "stopping_condition = 10\n",
    "results = []\n",
    "\n",
    "while condition < stopping_condition:\n",
    "    results.append(condition)\n",
    "\n",
    "    condition += 1\n",
    "\n",
    "results"
   ]
  },
  {
   "cell_type": "markdown",
   "id": "373a6378-3fea-43f1-a545-6f3165e89e2e",
   "metadata": {},
   "source": [
    "### Task 3\n",
    "\n",
    "run the code below.....\n",
    "\n",
    "condition = 0\n",
    "stopping_condition = 10\n",
    "results = []\n",
    "\n",
    "while condition < stopping_condition:\n",
    "    results.append(condition)\n",
    "\n",
    "results\n",
    "\n",
    "Why do you think this code snippet is running too long? "
   ]
  }
 ],
 "metadata": {
  "kernelspec": {
   "display_name": "Python 3 (ipykernel)",
   "language": "python",
   "name": "python3"
  },
  "language_info": {
   "codemirror_mode": {
    "name": "ipython",
    "version": 3
   },
   "file_extension": ".py",
   "mimetype": "text/x-python",
   "name": "python",
   "nbconvert_exporter": "python",
   "pygments_lexer": "ipython3",
   "version": "3.12.3"
  }
 },
 "nbformat": 4,
 "nbformat_minor": 5
}
