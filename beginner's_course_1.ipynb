{
 "cells": [
  {
   "cell_type": "markdown",
   "id": "fb991d4c-c363-40fe-92d5-857012bdd92d",
   "metadata": {},
   "source": [
    "## The Beginner's Course 1\n"
   ]
  },
  {
   "cell_type": "markdown",
   "id": "93aa86a0-080b-4331-8e56-282d7b744562",
   "metadata": {},
   "source": [
    "### Introduction To Computer Programming"
   ]
  },
  {
   "cell_type": "markdown",
   "id": "2f80acb6-c454-49e8-a9bb-d2b1cf228614",
   "metadata": {},
   "source": [
    "##### Computer Programming is the practice of writing instructions or codes called programs that\n",
    "##### computers can follow to perform tasks.\n",
    "\n",
    "##### Computers read instructions in binary (0 and 1). Therefore computer programs are always converted\n",
    "##### into the binary of 0s and 1s before being run by any computer system. This is called compilation into machine language.\n",
    "##### Thus, machine language is the language of 0s and 1s understood by computers.\n",
    "##### On the other hand, programming language is the human readable syntax in which computer programs are written.\n"
   ]
  },
  {
   "cell_type": "markdown",
   "id": "0f8c46d6-89ad-4c95-b032-8e9a8763a03e",
   "metadata": {},
   "source": [
    "### Types of Computer Programming Languages\n",
    "##### There are 2 common varieties of programming languages namely:\n",
    "  - Functional Programming Languages\n",
    "  - Object-Oriented Programming Languages\n",
    "      "
   ]
  },
  {
   "cell_type": "markdown",
   "id": "6098a2de-3732-4edb-80df-b94fac7aee3b",
   "metadata": {},
   "source": [
    "### Examples of Programming Languages\n",
    "   - Java\n",
    "   - C#\n",
    "   - C++\n",
    "   - Python\n",
    "   - Elixir\n",
    "   - Erlang\n",
    "   - Ruby on Rails\n",
    "   - Go\n",
    "   - Scala\n",
    "   - Rust\n",
    "   - JavaScript\n",
    "   - etc"
   ]
  },
  {
   "cell_type": "markdown",
   "id": "ccc00d79-eec3-4c6d-ae8b-cfc5e8e0c80e",
   "metadata": {},
   "source": [
    "## Introduction To Python"
   ]
  },
  {
   "cell_type": "markdown",
   "id": "f61c5f32-17d8-4a5f-834c-a87fac86c9ec",
   "metadata": {},
   "source": [
    "##### Python is an Object-Oriented Programming Language with strict indentation syntax.\n"
   ]
  },
  {
   "cell_type": "markdown",
   "id": "36605934-e2be-4cbc-9f83-87983c014766",
   "metadata": {},
   "source": [
    "#### Data Types"
   ]
  },
  {
   "cell_type": "markdown",
   "id": "17840086-53a6-46b4-bd6d-cf4a924ca778",
   "metadata": {},
   "source": [
    "##### Writing computer programs basically involve the input of data and the output of meaningful data (which is information).\n",
    "##### The primary and most commonly used data types are:\n",
    "  - Numbers (Integers and Float)\n",
    "  - Strings\n",
    "  - Boolean Operators\n",
    "  - Tuples\n",
    "  - List\n",
    "  - Dictionary\n",
    "    \n",
    "    "
   ]
  },
  {
   "cell_type": "markdown",
   "id": "629b39b3-b492-419d-b2f2-0ca3d6043fd1",
   "metadata": {},
   "source": [
    "#### Numbers\n",
    "##### All postive and negative non-decimal numbers are categorised under INTEGERS. E.g., 2, 4567, -89, 1000\n",
    "##### All positive and negative decimal numbers are categorised under FLOAT. E.g., -4.56, 678.01, 4.5\n"
   ]
  },
  {
   "cell_type": "markdown",
   "id": "df12f7e4-f843-4709-a558-b4e54df0d545",
   "metadata": {},
   "source": [
    "#### Strings\n",
    "##### Any character enclosed in single or double quotes.\n",
    "##### The character may be a symbol, alphabet or number. Egs, \"Friends\", \"2345\", \"#rt5\", \"relax!\""
   ]
  },
  {
   "cell_type": "markdown",
   "id": "17f76dcb-00c6-4f40-904b-8e814d67573d",
   "metadata": {},
   "source": [
    "#### Boolean and Comparison Operators\n",
    "##### For expressing truthfulness as well as comparing statements.\n",
    "##### The most commonly used boolean operators are AND, OR, NOT, TRUE, FALSE.\n",
    "##### These boolean operators can also be expressed symbolically as:\n",
    " - == -> equal to; 5 == 5 = True\n",
    " - != -> not equal to; ten != 10 = True\n",
    " - <= -> less than or equal to; len(\"relax\") <= 4 = False\n",
    " - ##### >= -> greater than or equal to; len(\"relax\") <= 4 = False\n",
    " - < -> less than; 60 < 100 = True\n",
    " - ##### > -> greater than; 60 > 100 = False\n",
    " - || -> OR; 5 > 10 || 2 > 5 = True\n",
    " - && -> AND; 5 > 10 && 2 > 5 = False"
   ]
  },
  {
   "cell_type": "markdown",
   "id": "ba806fa2-a401-424d-9f18-74e0fc67b73b",
   "metadata": {},
   "source": [
    "#### Tuples\n",
    "##### A bracket containing zero or more items.\n",
    "##### The items could be any character.\n",
    "##### Tuples are immutable, thus their items cannot be modified.\n",
    "##### Egs., (\"you\", 23), (50.5, 30, True)"
   ]
  },
  {
   "cell_type": "markdown",
   "id": "d5f39030-1df4-4a63-9e43-deaecd82b6cd",
   "metadata": {},
   "source": [
    "#### List\n",
    "##### A square bracket containing zero or more items.\n",
    "##### The items of a list could be any character.\n",
    "##### Lists are mutable, thus, their items can be modified.\n",
    "##### Egs., [97, \"Friends\", (\"you\", \"come!\")]\n"
   ]
  },
  {
   "cell_type": "markdown",
   "id": "ef0bff28-cf86-4fd9-9a9d-34c271f6cbb2",
   "metadata": {},
   "source": [
    "#### Dictionary\n",
    "##### A curly bracket containing  zero or more items where each item has a key-value pair.\n",
    "##### Dictionaries are mutable.\n",
    "##### The value of a dictionary can be of any type but the key is always a string.\n",
    "##### Egs., {\"name\": \"Addison\", \"age\": 27, \"goals\": 11}, "
   ]
  },
  {
   "cell_type": "markdown",
   "id": "6b563573-ca77-4801-879b-2f08c9e9bbf3",
   "metadata": {},
   "source": [
    "### Variables\n",
    "##### A variable is any item to which any item/items can be assigned to.\n",
    "##### Thus, a variable is a store-space/shelf for holding items so that those items\n",
    "##### can be uniquely referenced later.\n",
    "##### A typical example is the names we have. There are diverse human beings on this planet\n",
    "##### each having a specific name that makes it easier for identification.\n",
    "\n",
    "##### There's a syntax for creating variables. A variable can only start with:\n",
    "  - alphabets\n",
    "     - snake_case (egs, school_name, age_group)\n",
    "     - camelCase (egs, schoolName, ageGroup)\n",
    "     - PascalCase (egs, SchoolName, AgeGroup)\n",
    "     - flatcase (egs, schoolname, agegroup)\n",
    "\n",
    "  - underscore\n",
    "     - Examples: _school_name, _agegroup\n",
    "     - If the specific name of a variable is not necessary, then an underscore is placed before the name.\n",
    "\n",
    "  \n",
    "  ### A variable cannot start with a number or symbol (apart from an underscore).\n",
    "\n",
    "##### Typical egs of variables\n",
    "   - school_name = \"Opoku Ware School\"\n",
    "   - ageGroup = range(12, 20)"
   ]
  },
  {
   "cell_type": "markdown",
   "id": "5ce7a03e-0ae6-430c-b03b-1a9fa646edd8",
   "metadata": {},
   "source": [
    "### String Manipulation"
   ]
  },
  {
   "cell_type": "markdown",
   "id": "60c3a010-f291-4aa4-b914-91a6c600088b",
   "metadata": {},
   "source": [
    "##### This section deals with workking with strings.\n",
    "##### We are going to learn how to manipulate strings with examples."
   ]
  },
  {
   "cell_type": "markdown",
   "id": "447f504e-ddc9-48f5-bbe6-e80de1d58562",
   "metadata": {},
   "source": [
    "#### Example 1 - String Splitting I\n"
   ]
  },
  {
   "cell_type": "code",
   "execution_count": 1,
   "id": "0238bbf6-9cc7-4bd6-a735-65af9b2f9a7d",
   "metadata": {},
   "outputs": [
    {
     "name": "stdin",
     "output_type": "stream",
     "text": [
      "Please enter your full name separated by a comma. For eg., Linford,Adomako:  Linford,Adomako\n"
     ]
    }
   ],
   "source": [
    "fullname_separated_by_comma = input(\"Please enter your full name separated by a comma. For eg., Linford,Adomako: \")"
   ]
  },
  {
   "cell_type": "code",
   "execution_count": 2,
   "id": "93e1c165-acd2-4ee6-9091-f73e688b2b78",
   "metadata": {},
   "outputs": [
    {
     "name": "stdin",
     "output_type": "stream",
     "text": [
      "Please enter your full name separated by a comma. For eg., Linford Adomako:  Linford Adomako\n"
     ]
    }
   ],
   "source": [
    "fullname_separated_by_space = input(\"Please enter your full name separated by a comma. For eg., Linford Adomako: \")"
   ]
  },
  {
   "cell_type": "code",
   "execution_count": 3,
   "id": "3814f866-9579-4c83-8697-8cb4728cfd2b",
   "metadata": {},
   "outputs": [],
   "source": [
    "# Split the name into first_name and surname\n",
    "first_name = fullname_separated_by_comma.split(\",\")[0]\n",
    "surname = fullname_separated_by_comma.split(\",\")[1]"
   ]
  },
  {
   "cell_type": "code",
   "execution_count": 4,
   "id": "1b04c632-d30e-475a-b2ba-4645f544309d",
   "metadata": {},
   "outputs": [
    {
     "name": "stdout",
     "output_type": "stream",
     "text": [
      "Please tell us your first name and surname\n",
      "My first name is Linford and my surname is Adomako\n",
      "Bravo! You just completed your first programming challenge\n"
     ]
    }
   ],
   "source": [
    "# Print your firstname and surname\n",
    "print(\"Please tell us your first name and surname\")\n",
    "print(f\"My first name is {first_name} and my surname is {surname}\")\n",
    "print(\"Bravo! You just completed your first programming challenge\")"
   ]
  },
  {
   "cell_type": "markdown",
   "id": "7e980907-c0c3-44ce-9b37-85ff3ddf4461",
   "metadata": {},
   "source": [
    "#### Task 1: \n",
    "  - Split the fullname_separated_by_space variable into first name and surname "
   ]
  },
  {
   "cell_type": "markdown",
   "id": "e6e17f09-c5ae-48e0-9d39-53dc6605f641",
   "metadata": {},
   "source": [
    "#### Example 2 - String Concatenation"
   ]
  },
  {
   "cell_type": "code",
   "execution_count": 5,
   "id": "5c4fa6f7-e466-445c-ba06-e7f6ff11eec4",
   "metadata": {},
   "outputs": [
    {
     "name": "stdout",
     "output_type": "stream",
     "text": [
      "My fullname can be be rendered also as AdomakoLinford\n",
      "My fullname can be re-rendered as Adomako Linford\n"
     ]
    }
   ],
   "source": [
    "# Let change the order of the names such that the surname precedes the first name\n",
    "fullname_without_space = surname + first_name\n",
    "fullname_with_space = surname + \" \" + first_name\n",
    "\n",
    "print(f\"My fullname can be be rendered also as {fullname_without_space}\")\n",
    "print(f\"My fullname can be re-rendered as {fullname_with_space}\")"
   ]
  },
  {
   "cell_type": "code",
   "execution_count": 6,
   "id": "fd1717a6-c808-4cc9-8ba6-96077522ae8b",
   "metadata": {},
   "outputs": [
    {
     "name": "stdout",
     "output_type": "stream",
     "text": [
      "My fullname with fullstop as Adomako Linford.\n"
     ]
    }
   ],
   "source": [
    "# Let's add a fullstop \n",
    "fullname_with_space = surname + \" \" + first_name + \".\"\n",
    "print(f\"My fullname with fullstop as {fullname_with_space}\")"
   ]
  },
  {
   "cell_type": "markdown",
   "id": "cab0f5b1-f31c-4272-82aa-1144c137fee1",
   "metadata": {},
   "source": [
    "#### Task 2\n",
    "  - Convert the result of Task 1 into a fullname separated by a comma with the surname preceding the firstname.\n",
    "  - Add a new variable referencing the name of your school and print this statement: \"I am called 'surname firstname', and I attend 'name of your school'\". "
   ]
  },
  {
   "cell_type": "markdown",
   "id": "11b68521-cbd5-45a7-a3d9-333a83596fa5",
   "metadata": {},
   "source": [
    "#### Example 3 - String Splitting II"
   ]
  },
  {
   "cell_type": "code",
   "execution_count": 14,
   "id": "c93020d2-e30c-4e79-b121-734cdfada2dc",
   "metadata": {},
   "outputs": [
    {
     "name": "stdout",
     "output_type": "stream",
     "text": [
      "My name is written in capital blocks as: LINFORD ADOMAKO.\n"
     ]
    }
   ],
   "source": [
    "# We will split strings into their individual characters and move them around\n",
    "\n",
    "# before splitting, let's modify the names' case into a uniform type\n",
    "\n",
    "# Names to upper case\n",
    "firstname_upper = first_name.upper()\n",
    "surname_upper = surname.upper()\n",
    "\n",
    "print(f\"My name is written in capital blocks as: {firstname_upper} {surname_upper}.\")\n"
   ]
  },
  {
   "cell_type": "markdown",
   "id": "6345460e-0ab9-4d12-8c08-52aac5554815",
   "metadata": {},
   "source": [
    "### Task 3 - Convert your name into lowercase \n",
    "   - use the following variables:\n",
    "   - firstname_lower\n",
    "   - surname_lower\n",
    "   - Hint: the function lower() converts uppercase to lower case"
   ]
  },
  {
   "cell_type": "code",
   "execution_count": 18,
   "id": "82b4d5b0-d203-46e1-ba67-5cf53ae417eb",
   "metadata": {},
   "outputs": [
    {
     "data": {
      "text/plain": [
       "['L', 'I', 'N', 'F', 'O', 'R', 'D']"
      ]
     },
     "execution_count": 18,
     "metadata": {},
     "output_type": "execute_result"
    }
   ],
   "source": [
    "# split the first name and surname into individual characters(alphabets)\n",
    "split_firstname = list(firstname_upper)\n",
    "split_firstname"
   ]
  },
  {
   "cell_type": "code",
   "execution_count": 19,
   "id": "0eebd283-e02b-4b10-a070-39ce480a1b4a",
   "metadata": {},
   "outputs": [
    {
     "data": {
      "text/plain": [
       "['A', 'D', 'O', 'M', 'A', 'K', 'O']"
      ]
     },
     "execution_count": 19,
     "metadata": {},
     "output_type": "execute_result"
    }
   ],
   "source": [
    "# split the surname into individual characters(alphabets)\n",
    "split_surname = list(surname_upper)\n",
    "split_surname"
   ]
  },
  {
   "cell_type": "code",
   "execution_count": 20,
   "id": "72c0718f-6f32-4534-ac98-04f485e2fa49",
   "metadata": {},
   "outputs": [
    {
     "data": {
      "text/plain": [
       "['L', 'I', 'N', 'F', 'O', 'R', 'D', 'A', 'D', 'O', 'M', 'A', 'K', 'O']"
      ]
     },
     "execution_count": 20,
     "metadata": {},
     "output_type": "execute_result"
    }
   ],
   "source": [
    "# converting the characters into a single case allows for easy comparison \n",
    "\n",
    "# lets combine both lists into a single one\n",
    "name_in_capitals = split_firstname + split_surname\n",
    "name_in_capitals"
   ]
  },
  {
   "cell_type": "markdown",
   "id": "f0577fd9-7c8c-4b05-a01f-7ade6cf1a1da",
   "metadata": {},
   "source": [
    "### Task 4 - Split your name into individual characters\n",
    "   - split your lowercase first name and surname (from Task 3) into individual characters, each in a list\n",
    "   - combine the two lists and assign to the variable \"name_in_lowercase\".\n",
    "   - Compare name_in_lowercase to name_in_upper with the equal to operator to see if they are the same."
   ]
  }
 ],
 "metadata": {
  "kernelspec": {
   "display_name": "Python 3 (ipykernel)",
   "language": "python",
   "name": "python3"
  },
  "language_info": {
   "codemirror_mode": {
    "name": "ipython",
    "version": 3
   },
   "file_extension": ".py",
   "mimetype": "text/x-python",
   "name": "python",
   "nbconvert_exporter": "python",
   "pygments_lexer": "ipython3",
   "version": "3.12.3"
  }
 },
 "nbformat": 4,
 "nbformat_minor": 5
}
